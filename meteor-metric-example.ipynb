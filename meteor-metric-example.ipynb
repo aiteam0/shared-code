{
 "cells": [
  {
   "cell_type": "markdown",
   "metadata": {},
   "source": [
    "### Python code for evaluating English text using the METEOR score"
   ]
  },
  {
   "cell_type": "code",
   "execution_count": 2,
   "metadata": {},
   "outputs": [],
   "source": [
    "from typing import List\n",
    "import evaluate # pip install evaluate\n",
    "\n",
    "\n",
    "def meteor(generation_gt: List[List[str]], generations: List[str],\n",
    "           alpha: float = 0.9,\n",
    "           beta: float = 3.0,\n",
    "           gamma: float = 0.5) -> List[float]:\n",
    "    \"\"\"Computes METEOR score.\"\"\"\n",
    "    # Note: NLTK resources 'wordnet' and 'punkt' might be needed by evaluate.load(\"meteor\").\n",
    "    # If you encounter errors, try running the following in a Python interpreter:\n",
    "    # import nltk\n",
    "    # nltk.download('wordnet')\n",
    "    # nltk.download('punkt')\n",
    "    try:\n",
    "        meteor_instance = evaluate.load(\"meteor\")\n",
    "        result = huggingface_evaluate(meteor_instance, 'meteor', generation_gt, generations,\n",
    "                                      alpha=alpha, beta=beta, gamma=gamma)\n",
    "        del meteor_instance\n",
    "        return result\n",
    "    except Exception as e:\n",
    "        print(f\"Error loading/computing METEOR: {e}\")\n",
    "        return [0.0] * len(generations)\n",
    "\n",
    "\n",
    "def huggingface_evaluate(instance, key: str,\n",
    "                         generation_gt: List[List[str]], generations: List[str],\n",
    "                         **kwargs) -> List[float]:\n",
    "    \"\"\"Helper function to compute scores using Hugging Face evaluate.\"\"\"\n",
    "    def compute_score(gt: List[str], pred: str) -> float:\n",
    "        # Computes the score for a single prediction against potentially multiple references. Returns the maximum score if multiple references are provided for one prediction.\n",
    "        return max(list(map(\n",
    "            lambda x: instance.compute(predictions=[pred], references=[x], **kwargs)[key], gt)))\n",
    "\n",
    "    # Map the compute_score function over zipped ground truths and predictions.\n",
    "    # zip(generation_gt, generations) pairs each list of references with its corresponding prediction.\n",
    "    result = list(map(lambda x: compute_score(x[0], x[1]), zip(generation_gt, generations)))\n",
    "    return result"
   ]
  },
  {
   "cell_type": "markdown",
   "metadata": {},
   "source": [
    "### Example 1 : Individual Sentence Evaluation"
   ]
  },
  {
   "cell_type": "code",
   "execution_count": 4,
   "metadata": {},
   "outputs": [
    {
     "name": "stdout",
     "output_type": "stream",
     "text": [
      "--- Evaluation ---\n",
      "\n",
      "1. Individual Sentence Evaluation:\n",
      "generation_gt_individual: [['If error code E-405 appears on the PCU-2301, check the M39A valve for malfunction and verify that the S505 sensor'], ['is properly linked to the P-291 pump to restore system functionality.']]\n",
      "prediction_sentences: ['When the E-405 fault is detected on the PCU-2301 controller, technicians should inspect the M39A valve', 'and ensure the S505 sensor is securely connected to the P-201 pump to resume normal operation.']\n",
      "  Sentence 1 METEOR score: 0.3334\n",
      "  Sentence 2 METEOR score: 0.5078\n"
     ]
    },
    {
     "name": "stderr",
     "output_type": "stream",
     "text": [
      "[nltk_data] Downloading package wordnet to\n",
      "[nltk_data]     C:\\Users\\HomePC\\AppData\\Roaming\\nltk_data...\n",
      "[nltk_data]   Package wordnet is already up-to-date!\n",
      "[nltk_data] Downloading package punkt_tab to\n",
      "[nltk_data]     C:\\Users\\HomePC\\AppData\\Roaming\\nltk_data...\n",
      "[nltk_data]   Package punkt_tab is already up-to-date!\n",
      "[nltk_data] Downloading package omw-1.4 to\n",
      "[nltk_data]     C:\\Users\\HomePC\\AppData\\Roaming\\nltk_data...\n",
      "[nltk_data]   Package omw-1.4 is already up-to-date!\n"
     ]
    }
   ],
   "source": [
    "if __name__ == \"__main__\":\n",
    "    prediction_sentences = [\n",
    "        \"When the E-405 fault is detected on the PCU-2301 controller, technicians should inspect the M39A valve\",\n",
    "        \"and ensure the S505 sensor is securely connected to the P-201 pump to resume normal operation.\"\n",
    "    ]\n",
    "    reference_sentences = [\n",
    "        \"If error code E-405 appears on the PCU-2301, check the M39A valve for malfunction and verify that the S505 sensor\",\n",
    "        \"is properly linked to the P-291 pump to restore system functionality.\"\n",
    "    ]\n",
    "\n",
    "    print(\"--- Evaluation ---\")\n",
    "    print(\"\\n1. Individual Sentence Evaluation:\")\n",
    "\n",
    "    generation_gt_individual = [[r] for r in reference_sentences]\n",
    "\n",
    "    print(f\"generation_gt_individual: {generation_gt_individual}\")\n",
    "    print(f\"prediction_sentences: {prediction_sentences}\")\n",
    "\n",
    "    meteor_scores_individual = meteor(generation_gt_individual, prediction_sentences)\n",
    "    for i, score in enumerate(meteor_scores_individual):\n",
    "        print(f\"  Sentence {i+1} METEOR score: {score:.4f}\")"
   ]
  },
  {
   "cell_type": "markdown",
   "metadata": {},
   "source": [
    "### Example 2 : Full text evaluation (Preferred)"
   ]
  },
  {
   "cell_type": "code",
   "execution_count": 5,
   "metadata": {},
   "outputs": [
    {
     "name": "stdout",
     "output_type": "stream",
     "text": [
      "--- Evaluation ---\n",
      "\n",
      "2. Full Text Evaluation:\n",
      "generation_gt_full: [['If error code E-405 appears on the PCU-2301, check the M39A valve for malfunction and verify that the S505 sensor is properly linked to the P-291 pump to restore system functionality.']]\n",
      "generations_full: ['When the E-405 fault is detected on the PCU-2301 controller, technicians should inspect the M39A valve and ensure the S505 sensor is securely connected to the P-201 pump to resume normal operation.']\n",
      "  Full text METEOR score: 0.5888\n"
     ]
    },
    {
     "name": "stderr",
     "output_type": "stream",
     "text": [
      "[nltk_data] Downloading package wordnet to\n",
      "[nltk_data]     C:\\Users\\HomePC\\AppData\\Roaming\\nltk_data...\n",
      "[nltk_data]   Package wordnet is already up-to-date!\n",
      "[nltk_data] Downloading package punkt_tab to\n",
      "[nltk_data]     C:\\Users\\HomePC\\AppData\\Roaming\\nltk_data...\n",
      "[nltk_data]   Package punkt_tab is already up-to-date!\n",
      "[nltk_data] Downloading package omw-1.4 to\n",
      "[nltk_data]     C:\\Users\\HomePC\\AppData\\Roaming\\nltk_data...\n",
      "[nltk_data]   Package omw-1.4 is already up-to-date!\n"
     ]
    }
   ],
   "source": [
    "\n",
    "if __name__ == \"__main__\":\n",
    "    prediction_sentences = [\n",
    "        \"When the E-405 fault is detected on the PCU-2301 controller, technicians should inspect the M39A valve\",\n",
    "        \"and ensure the S505 sensor is securely connected to the P-201 pump to resume normal operation.\"\n",
    "    ]\n",
    "    reference_sentences = [\n",
    "        \"If error code E-405 appears on the PCU-2301, check the M39A valve for malfunction and verify that the S505 sensor\",\n",
    "        \"is properly linked to the P-291 pump to restore system functionality.\"\n",
    "    ]\n",
    "\n",
    "    print(\"--- Evaluation ---\")\n",
    "    print(\"\\n2. Full Text Evaluation:\")\n",
    "\n",
    "    full_prediction = \" \".join(prediction_sentences)\n",
    "    full_reference = \" \".join(reference_sentences)\n",
    "\n",
    "\n",
    "    generation_gt_full = [[full_reference]]\n",
    "    generations_full = [full_prediction]\n",
    "\n",
    "    print(f\"generation_gt_full: {generation_gt_full}\")\n",
    "    print(f\"generations_full: {generations_full}\")\n",
    "\n",
    "    meteor_score_full_list = meteor(generation_gt_full, generations_full)\n",
    "\n",
    "    if meteor_score_full_list:\n",
    "        print(f\"  Full text METEOR score: {meteor_score_full_list[0]:.4f}\")"
   ]
  }
 ],
 "metadata": {
  "kernelspec": {
   "display_name": ".venv",
   "language": "python",
   "name": "python3"
  },
  "language_info": {
   "codemirror_mode": {
    "name": "ipython",
    "version": 3
   },
   "file_extension": ".py",
   "mimetype": "text/x-python",
   "name": "python",
   "nbconvert_exporter": "python",
   "pygments_lexer": "ipython3",
   "version": "3.12.9"
  }
 },
 "nbformat": 4,
 "nbformat_minor": 2
}
